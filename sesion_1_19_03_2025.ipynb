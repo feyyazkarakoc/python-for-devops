{
 "cells": [
  {
   "cell_type": "markdown",
   "metadata": {},
   "source": [
    "Java, 1995 yılında Sun Microsystems tarafından piyasaya sürüldü. Geliştirilme süreci ise 1991 yılında James Gosling ve ekibi tarafından başlatıldı. İlk başta \"Oak\" adıyla geliştirildi, ancak daha sonra Java olarak adlandırıldı.\n",
    "Özet:\n",
    "1991: James Gosling ve ekibi Java'yı geliştirmeye başladı.\n",
    "1995: Java, Sun Microsystems tarafından resmi olarak duyuruldu.\n",
    "Java, özellikle taşınabilirlik (Write Once, Run Anywhere - WORA) özelliği sayesinde hızla popüler hale geldi ve günümüzde hâlâ yaygın olarak kullanılmaktadır. \n",
    "\n",
    "Python, 1991 yılında Guido van Rossum tarafından piyasaya sürüldü. Geliştirilme süreci ise 1989 yılında başladı.\n",
    "Özet:\n",
    "1989: Guido van Rossum, Python'un geliştirilmesine başladı.\n",
    "1991: Python'un ilk sürümü (Python 0.9.0) yayımlandı.\n",
    "Python, basit ve okunabilir sözdizimi ile hızla popüler hale geldi. \n",
    "\n",
    "Python'un cross-platform (platformlar arası) özelliği, farklı işletim sistemlerinde (Windows, macOS, Linux vb.) herhangi bir değişiklik yapmadan çalışabilmesi anlamına gelir.\n",
    "Python ile yazılan bir program, herhangi bir işletim sistemine özel derlemeye gerek kalmadan çalıştırılabilir.\n",
    "Python'un derleyiciye (compiler) ihtiyacı yoktur, çünkü yorumlanan (interpreted) bir dildir.\n",
    "Python CPython gibi yorumlayıcılar sayesinde farklı platformlarda sorunsuz çalışır.\n",
    "\n",
    "Java ile Karşılaştırma\n",
    "Java da cross-platform’dur ancak JVM (Java Virtual Machine) üzerinde çalıştırılır.\n",
    "Python ise doğrudan çalıştırılabilir, çünkü Python yorumlayıcısı (interpreter) kaynak kodu çalıştırır.\n",
    "\n",
    "\n",
    "Python’un Çalışma Mantığı\n",
    "Python yorumlanan (interpreted) bir dildir.\n",
    "Python kodları, Python yorumlayıcısı (interpreter) tarafından satır satır çalıştırılır.\n",
    "Python kodlarını çalıştırmak için derleme (compilation) gerekmez.\n",
    "Python kodu direkt olarak .py uzantılı dosya olarak çalıştırılabilir.\n",
    "Direkt olarak çalıştırabilirsiniz:\n",
    "python dosya.py  \n",
    "\n",
    "Java’nın Çalışma Mantığı\n",
    "Java önce derlenir (compiled), sonra çalıştırılır.\n",
    "Java kodları önce Java Derleyicisi (javac) tarafından bytecode adı verilen bir ara koda dönüştürülür.\n",
    "Daha sonra Java Sanal Makinesi (JVM - Java Virtual Machine) tarafından çalıştırılır.\n",
    "Kodu çalıştırmak için önce derlemeniz gerekir:\n",
    "javac Dosya.java  # Java derleyicisi ile derleme\n",
    "java Dosya       # JVM ile çalıştırma\n",
    "\n",
    "\n",
    "Java'da class isimleri için UpperCamelCase, metot ve değişken isimleri için lowerCamelCase kullanılır.\n",
    "\n",
    "Python’da genellikle PEP 8 isimlendirme kuralları kullanılır:\n",
    "Fonksiyon ve metotlar için: snake_case\n",
    "Class isimleri için: UpperCamelCase (PascalCase)\n",
    "Değişken isimleri için: snake_case\n",
    "Sabitler (constants) için: BÜYÜK_HARF_SNAKE_CASE"
   ]
  },
  {
   "cell_type": "code",
   "execution_count": 5,
   "metadata": {},
   "outputs": [
    {
     "data": {
      "text/plain": [
       "15"
      ]
     },
     "execution_count": 5,
     "metadata": {},
     "output_type": "execute_result"
    }
   ],
   "source": [
    "3*5"
   ]
  },
  {
   "cell_type": "markdown",
   "metadata": {},
   "source": [
    "# Başlık\n",
    "## Başlık\n",
    "### Başlık\n",
    "#### Başlık\n",
    "##### Başlık\n",
    "###### Başlık\n"
   ]
  },
  {
   "cell_type": "code",
   "execution_count": 6,
   "metadata": {},
   "outputs": [
    {
     "name": "stdout",
     "output_type": "stream",
     "text": [
      "Hello world!\n"
     ]
    }
   ],
   "source": [
    "print('Hello world!')"
   ]
  },
  {
   "cell_type": "code",
   "execution_count": 9,
   "metadata": {},
   "outputs": [
    {
     "name": "stdout",
     "output_type": "stream",
     "text": [
      "Hello world!\n",
      "Hello world!\n"
     ]
    }
   ],
   "source": [
    "print(\"Hello world!\")\n",
    "print('Hello world!')"
   ]
  },
  {
   "cell_type": "code",
   "execution_count": 10,
   "metadata": {},
   "outputs": [
    {
     "name": "stdout",
     "output_type": "stream",
     "text": [
      "Python\n",
      "      Vscode\n",
      "      colab\n"
     ]
    }
   ],
   "source": [
    "print(\"\"\"Python\n",
    "      Vscode\n",
    "      colab\"\"\")"
   ]
  },
  {
   "cell_type": "markdown",
   "metadata": {},
   "source": [
    "## Variables"
   ]
  },
  {
   "cell_type": "code",
   "execution_count": 11,
   "metadata": {},
   "outputs": [],
   "source": [
    "isim = \"Canan\" "
   ]
  },
  {
   "cell_type": "code",
   "execution_count": 12,
   "metadata": {},
   "outputs": [
    {
     "name": "stdout",
     "output_type": "stream",
     "text": [
      "Canan\n"
     ]
    }
   ],
   "source": [
    "print(isim)"
   ]
  },
  {
   "cell_type": "code",
   "execution_count": 14,
   "metadata": {},
   "outputs": [
    {
     "data": {
      "text/plain": [
       "'Canan'"
      ]
     },
     "execution_count": 14,
     "metadata": {},
     "output_type": "execute_result"
    }
   ],
   "source": [
    "isim"
   ]
  },
  {
   "cell_type": "code",
   "execution_count": 13,
   "metadata": {},
   "outputs": [
    {
     "name": "stdout",
     "output_type": "stream",
     "text": [
      "369\n"
     ]
    }
   ],
   "source": [
    "numara = 369\n",
    "print(numara)"
   ]
  },
  {
   "cell_type": "code",
   "execution_count": 15,
   "metadata": {},
   "outputs": [
    {
     "data": {
      "text/plain": [
       "369"
      ]
     },
     "execution_count": 15,
     "metadata": {},
     "output_type": "execute_result"
    }
   ],
   "source": [
    "numara"
   ]
  },
  {
   "cell_type": "code",
   "execution_count": 16,
   "metadata": {},
   "outputs": [
    {
     "data": {
      "text/plain": [
       "str"
      ]
     },
     "execution_count": 16,
     "metadata": {},
     "output_type": "execute_result"
    }
   ],
   "source": [
    "type(isim)"
   ]
  },
  {
   "cell_type": "code",
   "execution_count": 17,
   "metadata": {},
   "outputs": [
    {
     "data": {
      "text/plain": [
       "int"
      ]
     },
     "execution_count": 17,
     "metadata": {},
     "output_type": "execute_result"
    }
   ],
   "source": [
    "type(numara)"
   ]
  },
  {
   "cell_type": "code",
   "execution_count": 18,
   "metadata": {},
   "outputs": [
    {
     "ename": "SyntaxError",
     "evalue": "invalid syntax (47832701.py, line 1)",
     "output_type": "error",
     "traceback": [
      "  \u001b[36mCell\u001b[39m\u001b[36m \u001b[39m\u001b[32mIn[18]\u001b[39m\u001b[32m, line 1\u001b[39m\n\u001b[31m    \u001b[39m\u001b[31m$ad = 'dolar işareti'\u001b[39m\n    ^\n\u001b[31mSyntaxError\u001b[39m\u001b[31m:\u001b[39m invalid syntax\n"
     ]
    }
   ],
   "source": [
    "$ad = 'dolar işareti'"
   ]
  },
  {
   "cell_type": "code",
   "execution_count": 19,
   "metadata": {},
   "outputs": [
    {
     "ename": "SyntaxError",
     "evalue": "cannot assign to expression here. Maybe you meant '==' instead of '='? (1649095168.py, line 1)",
     "output_type": "error",
     "traceback": [
      "  \u001b[36mCell\u001b[39m\u001b[36m \u001b[39m\u001b[32mIn[19]\u001b[39m\u001b[32m, line 1\u001b[39m\n\u001b[31m    \u001b[39m\u001b[31mad-1 = \"sümeyye\"\u001b[39m\n    ^\n\u001b[31mSyntaxError\u001b[39m\u001b[31m:\u001b[39m cannot assign to expression here. Maybe you meant '==' instead of '='?\n"
     ]
    }
   ],
   "source": [
    "ad-1 = \"sümeyye\""
   ]
  },
  {
   "cell_type": "code",
   "execution_count": 20,
   "metadata": {},
   "outputs": [
    {
     "data": {
      "text/plain": [
       "'uluğbek'"
      ]
     },
     "execution_count": 20,
     "metadata": {},
     "output_type": "execute_result"
    }
   ],
   "source": [
    "ad_1=\"uluğbek\"\n",
    "ad_1"
   ]
  },
  {
   "cell_type": "markdown",
   "metadata": {},
   "source": [
    "## Matematiksel operatörler"
   ]
  },
  {
   "cell_type": "code",
   "execution_count": 21,
   "metadata": {},
   "outputs": [
    {
     "data": {
      "text/plain": [
       "3"
      ]
     },
     "execution_count": 21,
     "metadata": {},
     "output_type": "execute_result"
    }
   ],
   "source": [
    "2+1 #toplama opreatörü"
   ]
  },
  {
   "cell_type": "code",
   "execution_count": 22,
   "metadata": {},
   "outputs": [
    {
     "name": "stdout",
     "output_type": "stream",
     "text": [
      "2\n"
     ]
    }
   ],
   "source": [
    "print(3-1) #- çıkarma operatörü"
   ]
  },
  {
   "cell_type": "code",
   "execution_count": 23,
   "metadata": {},
   "outputs": [
    {
     "data": {
      "text/plain": [
       "'Hello World'"
      ]
     },
     "execution_count": 23,
     "metadata": {},
     "output_type": "execute_result"
    }
   ],
   "source": [
    "\"Hello\"+\" World\" # concetination"
   ]
  },
  {
   "cell_type": "code",
   "execution_count": 24,
   "metadata": {},
   "outputs": [
    {
     "data": {
      "text/plain": [
       "2.0"
      ]
     },
     "execution_count": 24,
     "metadata": {},
     "output_type": "execute_result"
    }
   ],
   "source": [
    "4/2 # bölme operatörü, float döndürür"
   ]
  },
  {
   "cell_type": "code",
   "execution_count": 25,
   "metadata": {},
   "outputs": [
    {
     "data": {
      "text/plain": [
       "float"
      ]
     },
     "execution_count": 25,
     "metadata": {},
     "output_type": "execute_result"
    }
   ],
   "source": [
    "type(4/2)"
   ]
  },
  {
   "cell_type": "code",
   "execution_count": 26,
   "metadata": {},
   "outputs": [
    {
     "data": {
      "text/plain": [
       "2"
      ]
     },
     "execution_count": 26,
     "metadata": {},
     "output_type": "execute_result"
    }
   ],
   "source": [
    "4//2 # virgülden sonrakini istemiyorsak 2 slash"
   ]
  },
  {
   "cell_type": "code",
   "execution_count": 27,
   "metadata": {},
   "outputs": [
    {
     "data": {
      "text/plain": [
       "int"
      ]
     },
     "execution_count": 27,
     "metadata": {},
     "output_type": "execute_result"
    }
   ],
   "source": [
    "type(4//2)"
   ]
  },
  {
   "cell_type": "code",
   "execution_count": 28,
   "metadata": {},
   "outputs": [
    {
     "data": {
      "text/plain": [
       "1.6666666666666667"
      ]
     },
     "execution_count": 28,
     "metadata": {},
     "output_type": "execute_result"
    }
   ],
   "source": [
    "5/3"
   ]
  },
  {
   "cell_type": "code",
   "execution_count": 29,
   "metadata": {},
   "outputs": [
    {
     "data": {
      "text/plain": [
       "1"
      ]
     },
     "execution_count": 29,
     "metadata": {},
     "output_type": "execute_result"
    }
   ],
   "source": [
    "5//3"
   ]
  },
  {
   "cell_type": "code",
   "execution_count": 30,
   "metadata": {},
   "outputs": [
    {
     "data": {
      "text/plain": [
       "int"
      ]
     },
     "execution_count": 30,
     "metadata": {},
     "output_type": "execute_result"
    }
   ],
   "source": [
    "type(5//3)"
   ]
  },
  {
   "cell_type": "code",
   "execution_count": 31,
   "metadata": {},
   "outputs": [
    {
     "data": {
      "text/plain": [
       "63"
      ]
     },
     "execution_count": 31,
     "metadata": {},
     "output_type": "execute_result"
    }
   ],
   "source": [
    "9*7"
   ]
  },
  {
   "cell_type": "code",
   "execution_count": null,
   "metadata": {},
   "outputs": [
    {
     "data": {
      "text/plain": [
       "'*********'"
      ]
     },
     "execution_count": 32,
     "metadata": {},
     "output_type": "execute_result"
    }
   ],
   "source": [
    "9*\"*\" # * işareti tırnak içinde kullanılmadığında çarpma operatörü anlamına gelir"
   ]
  },
  {
   "cell_type": "code",
   "execution_count": 33,
   "metadata": {},
   "outputs": [
    {
     "data": {
      "text/plain": [
       "'FeyyazFeyyazFeyyaz'"
      ]
     },
     "execution_count": 33,
     "metadata": {},
     "output_type": "execute_result"
    }
   ],
   "source": [
    "3*\"Feyyaz\""
   ]
  },
  {
   "cell_type": "markdown",
   "metadata": {},
   "source": [
    "## Pep 8 Kuralları"
   ]
  },
  {
   "cell_type": "code",
   "execution_count": null,
   "metadata": {},
   "outputs": [],
   "source": []
  }
 ],
 "metadata": {
  "kernelspec": {
   "display_name": "Python 3",
   "language": "python",
   "name": "python3"
  },
  "language_info": {
   "codemirror_mode": {
    "name": "ipython",
    "version": 3
   },
   "file_extension": ".py",
   "mimetype": "text/x-python",
   "name": "python",
   "nbconvert_exporter": "python",
   "pygments_lexer": "ipython3",
   "version": "3.11.9"
  }
 },
 "nbformat": 4,
 "nbformat_minor": 2
}
